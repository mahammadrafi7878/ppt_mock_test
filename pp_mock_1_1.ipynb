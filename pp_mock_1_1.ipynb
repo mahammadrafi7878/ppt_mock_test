{
  "nbformat": 4,
  "nbformat_minor": 0,
  "metadata": {
    "colab": {
      "provenance": []
    },
    "kernelspec": {
      "name": "python3",
      "display_name": "Python 3"
    },
    "language_info": {
      "name": "python"
    }
  },
  "cells": [
    {
      "cell_type": "code",
      "source": [
        "#using list in built functions remove and append functions"
      ],
      "metadata": {
        "id": "R5q1raJAoCkx"
      },
      "execution_count": null,
      "outputs": []
    },
    {
      "cell_type": "code",
      "source": [
        "def move_non_zer(l):\n",
        "  for i in range(len(l)):\n",
        "    if l[i]==0:\n",
        "      l.remove(0)\n",
        "      l.append(0)\n",
        "  return l"
      ],
      "metadata": {
        "id": "2QDGmqKooCP6"
      },
      "execution_count": null,
      "outputs": []
    },
    {
      "cell_type": "code",
      "source": [
        "l=[0,1,0,3,12,0,7,9,0]\n",
        "move_non_zer(l)"
      ],
      "metadata": {
        "colab": {
          "base_uri": "https://localhost:8080/"
        },
        "id": "tnfp1-GMnahm",
        "outputId": "03e61334-9811-4359-d6ec-a3fd065b546c"
      },
      "execution_count": null,
      "outputs": [
        {
          "output_type": "execute_result",
          "data": {
            "text/plain": [
              "[1, 3, 12, 7, 9, 0, 0, 0, 0]"
            ]
          },
          "metadata": {},
          "execution_count": 13
        }
      ]
    },
    {
      "cell_type": "markdown",
      "source": [
        "#using Travers\n"
      ],
      "metadata": {
        "id": "hGLqUOwhqhme"
      }
    },
    {
      "cell_type": "code",
      "source": [
        "def move_zeores(ll):\n",
        "  count=0\n",
        "  for i in range(len(ll)):\n",
        "    if ll[i] != 0:\n",
        "      ll[count]=ll[i]\n",
        "      count=count+1 \n",
        "\n",
        "  while count<len(ll):\n",
        "    ll[count]=0\n",
        "    count=count+1\n",
        "\n",
        "  return ll"
      ],
      "metadata": {
        "id": "IZADA6uon3ff"
      },
      "execution_count": null,
      "outputs": []
    },
    {
      "cell_type": "code",
      "source": [
        "move_zeores(l)"
      ],
      "metadata": {
        "colab": {
          "base_uri": "https://localhost:8080/"
        },
        "id": "M2NG00ibqJ2L",
        "outputId": "18575574-19b0-4e83-aaed-aabe4486ef02"
      },
      "execution_count": null,
      "outputs": [
        {
          "output_type": "execute_result",
          "data": {
            "text/plain": [
              "[1, 3, 12, 7, 9, 0, 0, 0, 0]"
            ]
          },
          "metadata": {},
          "execution_count": 21
        }
      ]
    },
    {
      "cell_type": "code",
      "source": [
        "#Using Partionating"
      ],
      "metadata": {
        "id": "qaB2v6xQqaEH"
      },
      "execution_count": null,
      "outputs": []
    },
    {
      "cell_type": "code",
      "source": [
        "def zeroes(l):\n",
        "  n=len(l)\n",
        "  j=0\n",
        "  for i in range(n):\n",
        "    if l[i] != 0:\n",
        "      l[j],l[i]=l[j],l[i]\n",
        "      j=j+1\n",
        "\n",
        "  return l"
      ],
      "metadata": {
        "id": "yq6lB4T4q20w"
      },
      "execution_count": null,
      "outputs": []
    },
    {
      "cell_type": "code",
      "source": [
        "zeroes(l)"
      ],
      "metadata": {
        "colab": {
          "base_uri": "https://localhost:8080/"
        },
        "id": "X8bm4O0mrSkT",
        "outputId": "ebb08ed6-7c91-4382-860e-352c58fa1e1d"
      },
      "execution_count": null,
      "outputs": [
        {
          "output_type": "execute_result",
          "data": {
            "text/plain": [
              "[1, 3, 12, 7, 9, 0, 0, 0, 0]"
            ]
          },
          "metadata": {},
          "execution_count": 25
        }
      ]
    },
    {
      "cell_type": "code",
      "source": [],
      "metadata": {
        "id": "BurvIL1yrU2A"
      },
      "execution_count": null,
      "outputs": []
    }
  ]
}