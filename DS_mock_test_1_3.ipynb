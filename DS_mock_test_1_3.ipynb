{
 "cells": [
  {
   "cell_type": "raw",
   "id": "98341e21",
   "metadata": {},
   "source": [
    "19. Write a function called ‘calculate_mean’ that takes a list of numbers as input and returns the mean (average) of the numbers. The function should calculate the mean using the sum of the numbers divided by the total count.\n"
   ]
  },
  {
   "cell_type": "code",
   "execution_count": 7,
   "id": "0debefbb",
   "metadata": {},
   "outputs": [],
   "source": [
    "def calculate_mean(num):\n",
    "    summation=0\n",
    "    for i in num:\n",
    "        summation=summation+i\n",
    "        \n",
    "    count=0\n",
    "    for i in range(len(num)):\n",
    "        count=count+1\n",
    "        \n",
    "    mean=summation/count\n",
    "    \n",
    "    return mean\n"
   ]
  },
  {
   "cell_type": "code",
   "execution_count": 8,
   "id": "5b97b81f",
   "metadata": {},
   "outputs": [
    {
     "data": {
      "text/plain": [
       "20.0"
      ]
     },
     "execution_count": 8,
     "metadata": {},
     "output_type": "execute_result"
    }
   ],
   "source": [
    "data = [10, 15, 20, 25, 30]\n",
    "calculate_mean(data)"
   ]
  },
  {
   "cell_type": "code",
   "execution_count": null,
   "id": "82bc8905",
   "metadata": {},
   "outputs": [],
   "source": []
  }
 ],
 "metadata": {
  "kernelspec": {
   "display_name": "Python 3 (ipykernel)",
   "language": "python",
   "name": "python3"
  },
  "language_info": {
   "codemirror_mode": {
    "name": "ipython",
    "version": 3
   },
   "file_extension": ".py",
   "mimetype": "text/x-python",
   "name": "python",
   "nbconvert_exporter": "python",
   "pygments_lexer": "ipython3",
   "version": "3.10.9"
  }
 },
 "nbformat": 4,
 "nbformat_minor": 5
}
