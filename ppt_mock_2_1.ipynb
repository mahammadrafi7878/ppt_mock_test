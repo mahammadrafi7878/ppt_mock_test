{
 "cells": [
  {
   "cell_type": "raw",
   "id": "b3104180",
   "metadata": {},
   "source": [
    "Given a non-negative integer x, return the square root of x rounded down to the nearest integer. The returned integer should be non-negative as well. You must not use any built-in exponent function or operator. \n",
    "\n",
    " Example 1:\n",
    "Input: x = 4 Output: 2 Explanation: The square root of 4 is 2, so we return 2.\n",
    "Example 2:\n",
    "\n",
    "Input: x = 8 Output: 2 Explanation: The square root of 8 is 2.82842..., and since we round it down to the nearest integer, 2 is returned.\n",
    "Constraints:\n",
    "\n",
    "0 <= x <= 2^31 - 1\n",
    "\n"
   ]
  },
  {
   "cell_type": "code",
   "execution_count": 27,
   "id": "8c407a61",
   "metadata": {},
   "outputs": [],
   "source": [
    "def square_root(x):\n",
    "    if x==0:\n",
    "        return 0\n",
    "    for i in range(1,x):\n",
    "        if i*i==x:\n",
    "            return i\n",
    "        elif i*i>x:\n",
    "                return i-1\n",
    "            "
   ]
  },
  {
   "cell_type": "code",
   "execution_count": 29,
   "id": "64b2de59",
   "metadata": {},
   "outputs": [
    {
     "data": {
      "text/plain": [
       "3"
      ]
     },
     "execution_count": 29,
     "metadata": {},
     "output_type": "execute_result"
    }
   ],
   "source": [
    "square_root(10)"
   ]
  },
  {
   "cell_type": "code",
   "execution_count": 39,
   "id": "1e4e5d57",
   "metadata": {},
   "outputs": [],
   "source": [
    "def bin_sqrt(x):\n",
    "    if x==0:\n",
    "        return 0\n",
    "    \n",
    "    start=1\n",
    "    end=int(x/2)+1\n",
    "    while start<=end:\n",
    "        \n",
    "        mid=int(start+(end-start)/2)\n",
    "        if mid== int(x/mid):\n",
    "            return mid\n",
    "        elif (mid< int(x/mid)):\n",
    "            start=mid+1\n",
    "        else:\n",
    "            ans=end\n",
    "            end=end-1\n",
    "            \n",
    "    return ans\n",
    "            "
   ]
  },
  {
   "cell_type": "code",
   "execution_count": 42,
   "id": "74f3ecc7",
   "metadata": {},
   "outputs": [
    {
     "data": {
      "text/plain": [
       "3"
      ]
     },
     "execution_count": 42,
     "metadata": {},
     "output_type": "execute_result"
    }
   ],
   "source": [
    "bin_sqrt(x)"
   ]
  },
  {
   "cell_type": "raw",
   "id": "74be4f08",
   "metadata": {},
   "source": []
  },
  {
   "cell_type": "code",
   "execution_count": null,
   "id": "ae06ef98",
   "metadata": {},
   "outputs": [],
   "source": []
  }
 ],
 "metadata": {
  "kernelspec": {
   "display_name": "Python 3 (ipykernel)",
   "language": "python",
   "name": "python3"
  },
  "language_info": {
   "codemirror_mode": {
    "name": "ipython",
    "version": 3
   },
   "file_extension": ".py",
   "mimetype": "text/x-python",
   "name": "python",
   "nbconvert_exporter": "python",
   "pygments_lexer": "ipython3",
   "version": "3.10.9"
  }
 },
 "nbformat": 4,
 "nbformat_minor": 5
}
