{
  "nbformat": 4,
  "nbformat_minor": 0,
  "metadata": {
    "colab": {
      "provenance": []
    },
    "kernelspec": {
      "name": "python3",
      "display_name": "Python 3"
    },
    "language_info": {
      "name": "python"
    }
  },
  "cells": [
    {
      "cell_type": "code",
      "execution_count": null,
      "metadata": {
        "id": "j6rp4GeLgrtl"
      },
      "outputs": [],
      "source": []
    },
    {
      "cell_type": "markdown",
      "source": [
        "Using Hash map can solve these problem\n",
        "1. Going through the string and creating a hash map. It stores elements and frequency of the element. \n",
        "2.Itereate overstring use hash map to see if the current character at position 'i' occurs or not.\n",
        "3. If it occures only one time , break it and return its position."
      ],
      "metadata": {
        "id": "Yt-NifbphRNP"
      }
    },
    {
      "cell_type": "code",
      "source": [
        "def first_unique_char(str):\n",
        "  h_map={} \n",
        "   #build hashmap\n",
        "  for i in range(len(str)):\n",
        "    c=str[i]\n",
        "    h_map[c]=h_map.get(c,0)+1\n",
        "\n",
        "  #find index\n",
        "  for i in range(len(str)):\n",
        "    if h_map[str[i]]==1:\n",
        "      return i\n",
        "\n",
        "  return -1\n"
      ],
      "metadata": {
        "id": "E28Mttdoi5pm"
      },
      "execution_count": 12,
      "outputs": []
    },
    {
      "cell_type": "code",
      "source": [
        "s=\"leetcode\"\n",
        "first_unique_char(s)"
      ],
      "metadata": {
        "colab": {
          "base_uri": "https://localhost:8080/"
        },
        "id": "YXhVA41qjjLK",
        "outputId": "00060fc9-ce28-4f94-9b74-3fd7c2adeaed"
      },
      "execution_count": 13,
      "outputs": [
        {
          "output_type": "execute_result",
          "data": {
            "text/plain": [
              "0"
            ]
          },
          "metadata": {},
          "execution_count": 13
        }
      ]
    },
    {
      "cell_type": "code",
      "source": [
        "s=\"leetlcode\"\n",
        "first_unique_char(s)"
      ],
      "metadata": {
        "colab": {
          "base_uri": "https://localhost:8080/"
        },
        "id": "IJP2TuYSjwy3",
        "outputId": "e0dfb387-3681-4f3a-d52f-e8a7a8ef4273"
      },
      "execution_count": 14,
      "outputs": [
        {
          "output_type": "execute_result",
          "data": {
            "text/plain": [
              "3"
            ]
          },
          "metadata": {},
          "execution_count": 14
        }
      ]
    },
    {
      "cell_type": "code",
      "source": [],
      "metadata": {
        "id": "mNVwomXVmQA0"
      },
      "execution_count": null,
      "outputs": []
    }
  ]
}