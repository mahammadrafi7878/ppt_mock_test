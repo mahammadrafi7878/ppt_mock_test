{
 "cells": [
  {
   "cell_type": "raw",
   "id": "bcb4434e",
   "metadata": {},
   "source": [
    "20. Write a function called ‘perform_hypothesis_test’ that takes two lists of numbers as input, representing two samples. The function should perform a two-sample t-test and return the p-value. Use the ‘scipy.stats’ module in Python to calculate the t-test and p-value.\n"
   ]
  },
  {
   "cell_type": "code",
   "execution_count": 11,
   "id": "7ce188ae",
   "metadata": {},
   "outputs": [],
   "source": [
    "from scipy import stats\n",
    "\n",
    "def hypothesis_test(s1,s2):\n",
    "    t_stat,p_val=stats.ttest_ind(s1,s2)\n",
    "    return p_val\n"
   ]
  },
  {
   "cell_type": "code",
   "execution_count": 12,
   "id": "12ddd5fb",
   "metadata": {},
   "outputs": [
    {
     "data": {
      "text/plain": [
       "0.09434977284243756"
      ]
     },
     "execution_count": 12,
     "metadata": {},
     "output_type": "execute_result"
    }
   ],
   "source": [
    "sample1 = [5, 10, 15, 20, 25]\n",
    "sample2 = [10, 20, 30, 40, 50]\n",
    "\n",
    "hypothesis_test(sample1,sample2)"
   ]
  },
  {
   "cell_type": "code",
   "execution_count": 19,
   "id": "64aed7d2",
   "metadata": {},
   "outputs": [],
   "source": [
    "#another way\n",
    "\n",
    "from statsmodels.stats.weightstats import ttest_ind\n",
    "import numpy as np\n",
    "\n",
    "def second_hypothesis(sample1,sample2):\n",
    "    sample_1=np.array(sample1)\n",
    "    sample_2=np.array(sample2)\n",
    "    \n",
    "    result = ttest_ind(sample_1,\n",
    "                  sample_2)\n",
    "    \n",
    "    return result\n"
   ]
  },
  {
   "cell_type": "code",
   "execution_count": 21,
   "id": "fb743f01",
   "metadata": {},
   "outputs": [
    {
     "name": "stdout",
     "output_type": "stream",
     "text": [
      "p-value is : 0.09434977284243756\n"
     ]
    }
   ],
   "source": [
    "res=second_hypothesis(sample1,sample2)    #It resturns t_stats and p-value\n",
    "print(\"p-value is :\", res[1])"
   ]
  },
  {
   "cell_type": "code",
   "execution_count": null,
   "id": "78c3e9a8",
   "metadata": {},
   "outputs": [],
   "source": []
  }
 ],
 "metadata": {
  "kernelspec": {
   "display_name": "Python 3 (ipykernel)",
   "language": "python",
   "name": "python3"
  },
  "language_info": {
   "codemirror_mode": {
    "name": "ipython",
    "version": 3
   },
   "file_extension": ".py",
   "mimetype": "text/x-python",
   "name": "python",
   "nbconvert_exporter": "python",
   "pygments_lexer": "ipython3",
   "version": "3.10.9"
  }
 },
 "nbformat": 4,
 "nbformat_minor": 5
}
