{
 "cells": [
  {
   "cell_type": "code",
   "execution_count": 1,
   "id": "9c00d57c",
   "metadata": {},
   "outputs": [
    {
     "name": "stdout",
     "output_type": "stream",
     "text": [
      "push: [1]\n",
      "push: [1, 2]\n",
      "push: [1, 2, 3]\n",
      "pop: [1, 2]\n",
      "peek: 2\n",
      "pop: [1]\n",
      "peek: 1\n"
     ]
    }
   ],
   "source": [
    "list=[]\n",
    "list.append(1) # append 1\n",
    "\n",
    "\n",
    "print(\"push:\",list)\n",
    "list.append(2) # append 2\n",
    "\n",
    "\n",
    "print(\"push:\",list)\n",
    "list.append(3) # append 3\n",
    "\n",
    "\n",
    "print(\"push:\",list)\n",
    "list.pop() # pop 3\n",
    "\n",
    "\n",
    "print(\"pop:\",list)\n",
    "print(\"peek:\",list[-1]) # get top most element\n",
    "\n",
    "\n",
    "list.pop() # pop 2\n",
    "print(\"pop:\",list)\n",
    "print(\"peek:\",list[-1]) # get top most element"
   ]
  },
  {
   "cell_type": "code",
   "execution_count": null,
   "id": "9221ef33",
   "metadata": {},
   "outputs": [],
   "source": []
  },
  {
   "cell_type": "code",
   "execution_count": null,
   "id": "06151b8f",
   "metadata": {},
   "outputs": [],
   "source": []
  }
 ],
 "metadata": {
  "kernelspec": {
   "display_name": "Python 3 (ipykernel)",
   "language": "python",
   "name": "python3"
  },
  "language_info": {
   "codemirror_mode": {
    "name": "ipython",
    "version": 3
   },
   "file_extension": ".py",
   "mimetype": "text/x-python",
   "name": "python",
   "nbconvert_exporter": "python",
   "pygments_lexer": "ipython3",
   "version": "3.10.9"
  }
 },
 "nbformat": 4,
 "nbformat_minor": 5
}
