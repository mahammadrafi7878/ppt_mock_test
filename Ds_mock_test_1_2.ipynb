{
 "cells": [
  {
   "cell_type": "raw",
   "id": "e3003a3d",
   "metadata": {},
   "source": [
    "18. Implement a decorator function called ‘timer’ that measures the execution time of a function. The ‘timer’ decorator should print the time taken by the decorated function to execute. Use the ‘time’ module in Python to calculate the execution time.\n"
   ]
  },
  {
   "cell_type": "code",
   "execution_count": 11,
   "id": "65b40610",
   "metadata": {},
   "outputs": [],
   "source": [
    "from time import time\n",
    "\n",
    "\n",
    "def timer(func):\n",
    "    def function(*res,**res1):\n",
    "        t1=time()\n",
    "        result=func(*res,**res1)\n",
    "        t2=time()\n",
    "        print(f\"time taken for execution : {(t2-t1):.4f}sec\")\n",
    "        \n",
    "        return result\n",
    "    return function\n",
    "\n",
    "@timer\n",
    "def time_taken(n):\n",
    "    for i in range(n):\n",
    "        for j in range(10000):\n",
    "            i*j"
   ]
  },
  {
   "cell_type": "code",
   "execution_count": 12,
   "id": "2d6f1af8",
   "metadata": {},
   "outputs": [
    {
     "name": "stdout",
     "output_type": "stream",
     "text": [
      "time taken for execution : 0.0312sec\n"
     ]
    }
   ],
   "source": [
    "time_taken(10)"
   ]
  },
  {
   "cell_type": "code",
   "execution_count": null,
   "id": "672b4a7d",
   "metadata": {},
   "outputs": [],
   "source": []
  }
 ],
 "metadata": {
  "kernelspec": {
   "display_name": "Python 3 (ipykernel)",
   "language": "python",
   "name": "python3"
  },
  "language_info": {
   "codemirror_mode": {
    "name": "ipython",
    "version": 3
   },
   "file_extension": ".py",
   "mimetype": "text/x-python",
   "name": "python",
   "nbconvert_exporter": "python",
   "pygments_lexer": "ipython3",
   "version": "3.10.9"
  }
 },
 "nbformat": 4,
 "nbformat_minor": 5
}
