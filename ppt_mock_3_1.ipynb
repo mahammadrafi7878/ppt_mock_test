{
 "cells": [
  {
   "cell_type": "raw",
   "id": "2951d3d4",
   "metadata": {},
   "source": [
    "Implement a queue using a list in Python. Include the necessary methods such as enqueue, dequeue, and isEmpty."
   ]
  },
  {
   "cell_type": "code",
   "execution_count": null,
   "id": "6604b44d",
   "metadata": {},
   "outputs": [],
   "source": []
  },
  {
   "cell_type": "code",
   "execution_count": 79,
   "id": "d5f8d5d8",
   "metadata": {},
   "outputs": [
    {
     "name": "stdout",
     "output_type": "stream",
     "text": [
      "[1, 2, 3, 4]\n",
      "1\n",
      "2\n",
      "3\n",
      "False\n"
     ]
    }
   ],
   "source": [
    "#Here weimplementing que using one list\n",
    "\n",
    "que=[]\n",
    "\n",
    "#enque  value to a que\n",
    "que.append(1)\n",
    "que.append(2)\n",
    "que.append(3)\n",
    "que.append(4)\n",
    "print(que)\n",
    "\n",
    "\n",
    "\n",
    "#deque value in que\n",
    "\n",
    "print(que.pop(0))\n",
    "print(que.pop(0))\n",
    "print(que.pop(0))     #pop is also use for seeing peek of queue\n",
    "\n",
    "#Empty in que\n",
    "\n",
    "print(len(que)==0)"
   ]
  },
  {
   "cell_type": "code",
   "execution_count": 77,
   "id": "9cd2992c",
   "metadata": {},
   "outputs": [
    {
     "name": "stdout",
     "output_type": "stream",
     "text": [
      "1\n",
      "1\n",
      "11\n",
      "False\n"
     ]
    }
   ],
   "source": [
    "class MyQueue(object):           \n",
    "    def __init__(self):\n",
    "        self.list1 = []\n",
    "        self.list2 = []\n",
    "        \n",
    "        #PERFORMING QUE OPERATIONS USING TWO LISTS\n",
    "    # Push element x to the back of queue...\n",
    "    def push(self, x):\n",
    "        self.list1.append(x)\n",
    "        \n",
    "        \n",
    "   # Remove the element from the front of the queue and returns it...\n",
    "    def pop(self):\n",
    "        self.peek()\n",
    "        return self.list2.pop()\n",
    "    \n",
    "    \n",
    "   # Get the front element...\n",
    "    def peek(self):\n",
    "        if not self.list2:\n",
    "            while self.list1:\n",
    "                self.list2.append(self.list1.pop())\n",
    "        return self.list2[-1]\n",
    "    \n",
    "    \n",
    "    # Return whether the queue is empty...\n",
    "    def empty(self):\n",
    "        return not self.list1 and not self.list2\n",
    "    \n",
    "    \n",
    "obj1=MyQueue()\n",
    "obj1.push(1)\n",
    "obj1.push(11)\n",
    "obj1.push(25)\n",
    "\n",
    "\n",
    "\n",
    "print(obj1.peek())\n",
    "print(obj1.pop())\n",
    "print(obj1.peek())\n",
    "print(obj1.empty())\n"
   ]
  },
  {
   "cell_type": "code",
   "execution_count": null,
   "id": "9edd9b03",
   "metadata": {},
   "outputs": [],
   "source": []
  },
  {
   "cell_type": "code",
   "execution_count": null,
   "id": "aaac3d5b",
   "metadata": {},
   "outputs": [],
   "source": []
  }
 ],
 "metadata": {
  "kernelspec": {
   "display_name": "Python 3 (ipykernel)",
   "language": "python",
   "name": "python3"
  },
  "language_info": {
   "codemirror_mode": {
    "name": "ipython",
    "version": 3
   },
   "file_extension": ".py",
   "mimetype": "text/x-python",
   "name": "python",
   "nbconvert_exporter": "python",
   "pygments_lexer": "ipython3",
   "version": "3.10.9"
  }
 },
 "nbformat": 4,
 "nbformat_minor": 5
}
